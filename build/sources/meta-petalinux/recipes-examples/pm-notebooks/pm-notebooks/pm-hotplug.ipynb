{
 "cells": [
  {
   "cell_type": "markdown",
   "metadata": {},
   "source": [
    "# CPU Hotplug\n",
    "\n",
    "This demonstrates CPU hotplug capabilities of the PM firmware layer which allows CPU cores to be logically brought up or down at runtime.\n",
    "\n",
    "1. [Introduction](#introduction)\n",
    "2. [Implementation details](#implementation-details)\n",
    "    1. [List all CPUs](#list-all-cpus)\n",
    "    2. [CPU1-offline](#cpu1-offline)\n",
    "    3. [CPU1-online](#cpu1-online)\n",
    "2. [CPU Hotplug demo](#cpu-hotplug-demo)\n",
    "3. [References](#xlnx-pm-wiki)"
   ]
  },
  {
   "cell_type": "markdown",
   "metadata": {},
   "source": [
    "---"
   ]
  },
  {
   "cell_type": "markdown",
   "metadata": {},
   "source": [
    "## Introduction <a name=\"introduction\"></a>\n",
    "\n",
    "The Linux kernel image binary included in Xilinx Petalinux Pre-built BSP for a Versal platform evaluation board is able to dynamically enable and disable CPUs at runtime without having to reboot the system; this is known as CPU \"hotplugging\".\n",
    "\n",
    "If you're not using Petalinux pre-built images and compiling using your own config, the kernel option `CONFIG_HOTPLUG_CPU` needs to be enabled while compiling the kernel in order to enable this feature.\n",
    "\n",
    "This notebook provides a user-friendly and an interactive GUI to demonstrate this feature."
   ]
  },
  {
   "cell_type": "markdown",
   "metadata": {},
   "source": [
    "---"
   ]
  },
  {
   "cell_type": "markdown",
   "metadata": {},
   "source": [
    "## Implementation details <a name=\"implementation-details\"></a>\n",
    "\n",
    "Before we proceed to the demo, some basics:\n",
    "\n",
    "##### To list all available CPUs: <a name=\"list-all-cpus\"></a>"
   ]
  },
  {
   "cell_type": "code",
   "execution_count": 1,
   "metadata": {},
   "outputs": [
    {
     "name": "stdout",
     "output_type": "stream",
     "text": [
      "processor\t: 0\r\n",
      "BogoMIPS\t: 200.00\r\n",
      "Features\t: fp asimd aes pmull sha1 sha2 crc32 cpuid\r\n",
      "CPU implementer\t: 0x41\r\n",
      "CPU architecture: 8\r\n",
      "CPU variant\t: 0x0\r\n",
      "CPU part\t: 0xd08\r\n",
      "CPU revision\t: 3\r\n",
      "\r\n",
      "processor\t: 1\r\n",
      "BogoMIPS\t: 200.00\r\n",
      "Features\t: fp asimd aes pmull sha1 sha2 crc32 cpuid\r\n",
      "CPU implementer\t: 0x41\r\n",
      "CPU architecture: 8\r\n",
      "CPU variant\t: 0x0\r\n",
      "CPU part\t: 0xd08\r\n",
      "CPU revision\t: 3\r\n",
      "\r\n"
     ]
    }
   ],
   "source": [
    "cat /proc/cpuinfo"
   ]
  },
  {
   "cell_type": "markdown",
   "metadata": {},
   "source": [
    "We can also use `get_nr_cpus` method from `pmutil` package to obtain the same.\n",
    "\n",
    "Note that, `pmutil` package provides a few helper methods for demos."
   ]
  },
  {
   "cell_type": "code",
   "execution_count": 2,
   "metadata": {
    "scrolled": true
   },
   "outputs": [
    {
     "name": "stdout",
     "output_type": "stream",
     "text": [
      "The system has 2 CPU cores.\n"
     ]
    }
   ],
   "source": [
    "import pmutil\n",
    "nr_cpus = pmutil.get_nr_cpus()\n",
    "print(\"The system has {0} CPU cores.\".format(nr_cpus))"
   ]
  },
  {
   "cell_type": "markdown",
   "metadata": {},
   "source": [
    "The `debugfs` entries to access CPU cores are listed under `/sys/devices/system/cpu/` path:"
   ]
  },
  {
   "cell_type": "code",
   "execution_count": 3,
   "metadata": {
    "scrolled": true
   },
   "outputs": [
    {
     "name": "stdout",
     "output_type": "stream",
     "text": [
      "total 0\r\n",
      "drwxr-xr-x    7 root     root           0 Mar  7 03:57 \u001b[1;34m.\u001b[m/\r\n",
      "drwxr-xr-x    6 root     root           0 Mar  7 03:57 \u001b[1;34m..\u001b[m/\r\n",
      "drwxr-xr-x    6 root     root           0 Mar  7 03:57 \u001b[1;34mcpu0\u001b[m/\r\n",
      "drwxr-xr-x    6 root     root           0 Mar  7 03:57 \u001b[1;34mcpu1\u001b[m/\r\n",
      "drwxr-xr-x    3 root     root           0 Mar  7 04:16 \u001b[1;34mcpufreq\u001b[m/\r\n",
      "drwxr-xr-x    2 root     root           0 Mar  7 04:16 \u001b[1;34mhotplug\u001b[m/\r\n",
      "-r--r--r--    1 root     root        4.0K Mar  7 04:16 \u001b[0;0misolated\u001b[m\r\n",
      "-r--r--r--    1 root     root        4.0K Mar  7 04:16 \u001b[0;0mkernel_max\u001b[m\r\n",
      "-r--r--r--    1 root     root        4.0K Mar  7 04:16 \u001b[0;0mmodalias\u001b[m\r\n",
      "-r--r--r--    1 root     root        4.0K Mar  7 04:16 \u001b[0;0moffline\u001b[m\r\n",
      "-r--r--r--    1 root     root        4.0K Mar  7 03:57 \u001b[0;0monline\u001b[m\r\n",
      "-r--r--r--    1 root     root        4.0K Mar  7 04:16 \u001b[0;0mpossible\u001b[m\r\n",
      "drwxr-xr-x    2 root     root           0 Mar  7 04:16 \u001b[1;34mpower\u001b[m/\r\n",
      "-r--r--r--    1 root     root        4.0K Mar  7 04:16 \u001b[0;0mpresent\u001b[m\r\n",
      "-rw-r--r--    1 root     root        4.0K Mar  7 04:16 \u001b[0;0muevent\u001b[m\r\n"
     ]
    }
   ],
   "source": [
    "ls -lah /sys/devices/system/cpu/"
   ]
  },
  {
   "cell_type": "markdown",
   "metadata": {},
   "source": [
    "The files *offline, online, possible, present* represent the CPU masks.\n",
    "Each CPU folder contains an online file which controls the logical on (1) and off (0) state. Once the CPU is shutdown, it will be removed from `/proc/interrupts`, `/proc/cpuinfo` and should also not be shown visible by the `top` command."
   ]
  },
  {
   "cell_type": "markdown",
   "metadata": {},
   "source": [
    "##### To logically shutdown CPU1: <a name=\"cpu1-offline\"></a>"
   ]
  },
  {
   "cell_type": "code",
   "execution_count": 4,
   "metadata": {},
   "outputs": [
    {
     "name": "stdout",
     "output_type": "stream",
     "text": [
      "[ 2045.689249] CPU1: shutdown\r\n",
      "[ 2045.691977] psci: CPU1 killed.\r\n"
     ]
    }
   ],
   "source": [
    "!echo 0 > /sys/devices/system/cpu/cpu1/online\n",
    "!dmesg | tail -2"
   ]
  },
  {
   "cell_type": "markdown",
   "metadata": {},
   "source": [
    "##### To bring CPU1 back online: <a name=\"cpu1-online\"></a>"
   ]
  },
  {
   "cell_type": "code",
   "execution_count": 5,
   "metadata": {
    "scrolled": true
   },
   "outputs": [
    {
     "name": "stdout",
     "output_type": "stream",
     "text": [
      "[ 2047.533195] GICv3: CPU1: found redistributor 1 region 0:0x00000000f90a0000\r\n",
      "[ 2047.540086] CPU1: Booted secondary processor 0x0000000001 [0x410fd083]\r\n"
     ]
    }
   ],
   "source": [
    "!echo 1 > /sys/devices/system/cpu/cpu1/online\n",
    "!dmesg | tail -2"
   ]
  },
  {
   "cell_type": "markdown",
   "metadata": {},
   "source": [
    "---"
   ]
  },
  {
   "cell_type": "markdown",
   "metadata": {},
   "source": [
    "## CPU Hotplug Demo <a name=\"cpu-hotplug-demo\"></a>"
   ]
  },
  {
   "cell_type": "markdown",
   "metadata": {},
   "source": [
    "Since the Versal SoC family has two CPU cores, we have four possible combinations for CPU cores:\n",
    "\n",
    "| CPU0-state | CPU1-state | Valid/Invalid |\n",
    "| --- | --- | --- |\n",
    "| On | On | Valid |\n",
    "| On | Off | Valid |\n",
    "| Off | On | Valid |\n",
    "| Off | Off | Invalid |"
   ]
  },
  {
   "cell_type": "markdown",
   "metadata": {},
   "source": [
    "Let us run the demo:"
   ]
  },
  {
   "cell_type": "code",
   "execution_count": null,
   "metadata": {},
   "outputs": [],
   "source": [
    "from pmutil import hotplug\n",
    "hotplug.run_demo()"
   ]
  },
  {
   "cell_type": "markdown",
   "metadata": {},
   "source": [
    "## References <a name=\"xlnx-pm-wiki\"></a>\n",
    "[Link to Xilinx PM Wiki Page for Zynq UltraScale＋](https://xilinx-wiki.atlassian.net/wiki/spaces/A/pages/18842232)"
   ]
  }
 ],
 "metadata": {
  "kernelspec": {
   "display_name": "Python 3",
   "language": "python",
   "name": "python3"
  },
  "language_info": {
   "codemirror_mode": {
    "name": "ipython",
    "version": 3
   },
   "file_extension": ".py",
   "mimetype": "text/x-python",
   "name": "python",
   "nbconvert_exporter": "python",
   "pygments_lexer": "ipython3",
   "version": "3.5.6"
  }
 },
 "nbformat": 4,
 "nbformat_minor": 2
}
