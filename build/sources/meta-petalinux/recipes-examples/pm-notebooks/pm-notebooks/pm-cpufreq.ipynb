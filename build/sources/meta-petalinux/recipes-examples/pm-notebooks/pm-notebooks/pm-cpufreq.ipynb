{
 "cells": [
  {
   "cell_type": "markdown",
   "metadata": {},
   "source": [
    "# CPU Frequency Scaling\n",
    "\n",
    "This demonstrates CPU frequency scaling capabilities of the PM firmware layer which enables the operating system to scale the CPU frequency up or down in order to save power. CPU frequency scaling is implemented in the Linux kernel, the infrastructure is called *cpufreq*.\n",
    "\n",
    "1. [Introduction](#introduction)\n",
    "2. [Implementation details](#implementation-details)\n",
    "    1. [Kernel Config](#kernel-config)\n",
    "    2. [SysFS Interface to CPUFreq](#sysfs-interface)\n",
    "2. [CPU Frequency Scaling Demo](#cpufreq-scaling-demo)\n",
    "3. [References](#xlnx-pm-wiki)"
   ]
  },
  {
   "cell_type": "markdown",
   "metadata": {},
   "source": [
    "---"
   ]
  },
  {
   "cell_type": "markdown",
   "metadata": {},
   "source": [
    "## Introduction <a name=\"introduction\"></a>\n",
    "\n",
    "The majority of modern processors are capable of operating in a number of different clock frequency and voltage configurations, often referred to as *Operating Performance Points (OPP)* or *P-states* (in ACPI terminology). The activity by which this happens is referred to as CPU performance scaling or CPU frequency scaling (because it involves adjusting the CPU clock frequency).\n",
    "\n",
    "This notebook provides a user-friendly and interactive GUI to demonstrate this feature."
   ]
  },
  {
   "cell_type": "markdown",
   "metadata": {},
   "source": [
    "---"
   ]
  },
  {
   "cell_type": "markdown",
   "metadata": {},
   "source": [
    "## Implementation details <a name=\"implementation-details\"></a>"
   ]
  },
  {
   "cell_type": "markdown",
   "metadata": {},
   "source": [
    "### Kernel Config <a name=\"kernel-config\"></a>\n",
    "\n",
    "The Linux kernel supports CPU performance scaling by means of the CPUFreq (CPU Frequency scaling) subsystem that consists of three layers of code: the core, scaling governors and scaling drivers.\n",
    "\n",
    "More info about *cpefreq* framework in linux kernel can be found [here.](https://www.kernel.org/doc/Documentation/cpu-freq/)\n",
    "\n",
    "The Linux kernel image binary included in Xilinx Petalinux Pre-built BSP for a Versal platform evaluation board comes with these config options enabled. In addition, the Device Tree Binary (DTB) used for the board must have a Operating Performance Points (OPP) table bindings defined with the CPU cores. Again, the pre-built binaries have this included.\n",
    "\n",
    "Refer [this](https://xilinx-wiki.atlassian.net/wiki/spaces/A/pages/18841831) for reference. \n",
    "\n",
    "If you're compiling your own, then the following options must be enabled:\n",
    "```\n",
    "   - CONFIG_CPU_FREQ=y\n",
    "   - CONFIG_CPU_FREQ_DEFAULT_GOV_USERSPACE=y\n",
    "   - CONFIG_CPUFREQ_DT=y\n",
    "```\n",
    "\n",
    "This is a sample for DTS:\n",
    "```bash\n",
    "/ {\n",
    "..\n",
    "..\n",
    "..\n",
    "\t\tcpu0: cpu@0 {\n",
    "\t\t\tcompatible = \"arm,cortex-a72\", \"arm,armv8\";\n",
    "\t\t\tdevice_type = \"cpu\";\n",
    "\t\t\tenable-method = \"psci\";\n",
    "\t\t\toperating-points-v2 = <&cpu_opp_table>;\n",
    "\t\t\treg = <0>;\n",
    "\t\t\tcpu-idle-states = <&CPU_SLEEP_0>;\n",
    "\t\t};\n",
    "\n",
    "\t\tcpu1: cpu@1 {\n",
    "\t\t\tcompatible = \"arm,cortex-a72\", \"arm,armv8\";\n",
    "\t\t\tdevice_type = \"cpu\";\n",
    "\t\t\tenable-method = \"psci\";\n",
    "\t\t\toperating-points-v2 = <&cpu_opp_table>;\n",
    "\t\t\treg = <1>;\n",
    "\t\t\tcpu-idle-states = <&CPU_SLEEP_0>;\n",
    "\t\t};\n",
    "..\n",
    "..\n",
    "\t};\n",
    "\n",
    "\tcpu_opp_table: cpu_opp_table {\n",
    "\t\tcompatible = \"operating-points-v2\";\n",
    "\t\topp-shared;\n",
    "\t\topp00 {\n",
    "\t\t\topp-hz = /bits/ 64 <1199999988>;\n",
    "\t\t\topp-microvolt = <1000000>;\n",
    "\t\t\tclock-latency-ns = <500000>;\n",
    "\t\t};\n",
    "\t\topp01 {\n",
    "\t\t\topp-hz = /bits/ 64 <599999994>;\n",
    "\t\t\topp-microvolt = <1000000>;\n",
    "\t\t\tclock-latency-ns = <500000>;\n",
    "\t\t};\n",
    "\t\topp02 {\n",
    "\t\t\topp-hz = /bits/ 64 <399999996>;\n",
    "\t\t\topp-microvolt = <1000000>;\n",
    "\t\t\tclock-latency-ns = <500000>;\n",
    "\t\t};\n",
    "\t\topp03 {\n",
    "\t\t\topp-hz = /bits/ 64 <299999997>;\n",
    "\t\t\topp-microvolt = <1000000>;\n",
    "\t\t\tclock-latency-ns = <500000>;\n",
    "\t\t};\n",
    "\t};\n",
    "```"
   ]
  },
  {
   "cell_type": "markdown",
   "metadata": {},
   "source": [
    "---"
   ]
  },
  {
   "cell_type": "markdown",
   "metadata": {},
   "source": [
    "### SysFS Interface to CPUFreq <a name=\"sysfs-interface\"></a>\n",
    "\n",
    "During the initialization of the kernel, the CPUFreq core creates a sysfs directory called `cpufreq` under `/sys/devices/system/cpu/`."
   ]
  },
  {
   "cell_type": "code",
   "execution_count": 1,
   "metadata": {
    "scrolled": true
   },
   "outputs": [
    {
     "name": "stdout",
     "output_type": "stream",
     "text": [
      "total 0\r\n",
      "drwxr-xr-x    7 root     root           0 Mar  7 03:57 \u001b[1;34m.\u001b[m/\r\n",
      "drwxr-xr-x    6 root     root           0 Mar  7 03:57 \u001b[1;34m..\u001b[m/\r\n",
      "drwxr-xr-x    6 root     root           0 Mar  7 03:57 \u001b[1;34mcpu0\u001b[m/\r\n",
      "drwxr-xr-x    6 root     root           0 Mar  7 03:57 \u001b[1;34mcpu1\u001b[m/\r\n",
      "drwxr-xr-x    3 root     root           0 Mar  7 04:16 \u001b[1;34mcpufreq\u001b[m/\r\n",
      "drwxr-xr-x    2 root     root           0 Mar  7 04:16 \u001b[1;34mhotplug\u001b[m/\r\n",
      "-r--r--r--    1 root     root        4.0K Mar  7 04:16 \u001b[0;0misolated\u001b[m\r\n",
      "-r--r--r--    1 root     root        4.0K Mar  7 04:16 \u001b[0;0mkernel_max\u001b[m\r\n",
      "-r--r--r--    1 root     root        4.0K Mar  7 04:16 \u001b[0;0mmodalias\u001b[m\r\n",
      "-r--r--r--    1 root     root        4.0K Mar  7 04:16 \u001b[0;0moffline\u001b[m\r\n",
      "-r--r--r--    1 root     root        4.0K Mar  7 03:57 \u001b[0;0monline\u001b[m\r\n",
      "-r--r--r--    1 root     root        4.0K Mar  7 04:16 \u001b[0;0mpossible\u001b[m\r\n",
      "drwxr-xr-x    2 root     root           0 Mar  7 04:16 \u001b[1;34mpower\u001b[m/\r\n",
      "-r--r--r--    1 root     root        4.0K Mar  7 04:16 \u001b[0;0mpresent\u001b[m\r\n",
      "-rw-r--r--    1 root     root        4.0K Mar  7 04:16 \u001b[0;0muevent\u001b[m\r\n"
     ]
    }
   ],
   "source": [
    "ls -lah /sys/devices/system/cpu/"
   ]
  },
  {
   "cell_type": "markdown",
   "metadata": {},
   "source": [
    "The directory `cpufreq` above contains a `policyX` subdirectory (where `X` represents an integer number) for every policy object maintained by the CPUFreq core. The `policyX` directories in `/sys/devices/system/cpu/cpufreq` each contain policy-specific attributes (files) to control CPUFreq behavior for the corresponding policy objects (that is, for all of the CPUs associated with them).\n",
    "\n",
    "We can see that we have only a single policy enabled, called `policy0`."
   ]
  },
  {
   "cell_type": "code",
   "execution_count": 2,
   "metadata": {
    "scrolled": true
   },
   "outputs": [
    {
     "name": "stdout",
     "output_type": "stream",
     "text": [
      "total 0\r\n",
      "drwxr-xr-x    2 root     root           0 Mar  7 04:22 \u001b[1;34m.\u001b[m/\r\n",
      "drwxr-xr-x    3 root     root           0 Mar  7 04:16 \u001b[1;34m..\u001b[m/\r\n",
      "-r--r--r--    1 root     root        4.0K Mar  7 04:22 \u001b[0;0maffected_cpus\u001b[m\r\n",
      "-r--------    1 root     root        4.0K Mar  7 04:22 \u001b[0;0mcpuinfo_cur_freq\u001b[m\r\n",
      "-r--r--r--    1 root     root        4.0K Mar  7 04:22 \u001b[0;0mcpuinfo_max_freq\u001b[m\r\n",
      "-r--r--r--    1 root     root        4.0K Mar  7 04:22 \u001b[0;0mcpuinfo_min_freq\u001b[m\r\n",
      "-r--r--r--    1 root     root        4.0K Mar  7 04:22 \u001b[0;0mcpuinfo_transition_latency\u001b[m\r\n",
      "-r--r--r--    1 root     root        4.0K Mar  7 04:22 \u001b[0;0mrelated_cpus\u001b[m\r\n",
      "-r--r--r--    1 root     root        4.0K Mar  7 04:22 \u001b[0;0mscaling_available_frequencies\u001b[m\r\n",
      "-r--r--r--    1 root     root        4.0K Mar  7 04:22 \u001b[0;0mscaling_available_governors\u001b[m\r\n",
      "-r--r--r--    1 root     root        4.0K Mar  7 04:22 \u001b[0;0mscaling_cur_freq\u001b[m\r\n",
      "-r--r--r--    1 root     root        4.0K Mar  7 04:22 \u001b[0;0mscaling_driver\u001b[m\r\n",
      "-rw-r--r--    1 root     root        4.0K Mar  7 04:22 \u001b[0;0mscaling_governor\u001b[m\r\n",
      "-rw-r--r--    1 root     root        4.0K Mar  7 04:22 \u001b[0;0mscaling_max_freq\u001b[m\r\n",
      "-rw-r--r--    1 root     root        4.0K Mar  7 04:22 \u001b[0;0mscaling_min_freq\u001b[m\r\n",
      "-rw-r--r--    1 root     root        4.0K Mar  7 04:22 \u001b[0;0mscaling_setspeed\u001b[m\r\n"
     ]
    }
   ],
   "source": [
    "ls -lah /sys/devices/system/cpu/cpufreq/policy0/"
   ]
  },
  {
   "cell_type": "markdown",
   "metadata": {},
   "source": [
    "Each `policyX` directory is pointed to by cpufreq symbolic links under `/sys/devices/system/cpu/cpuY/` (where `Y` represents an integer that may be different from the one represented by `X`) for all of the CPUs associated with (or belonging to) the given policy.\n",
    "\n",
    "For example:"
   ]
  },
  {
   "cell_type": "code",
   "execution_count": 3,
   "metadata": {
    "scrolled": true
   },
   "outputs": [
    {
     "name": "stdout",
     "output_type": "stream",
     "text": [
      "total 0\r\n",
      "drwxr-xr-x    6 root     root           0 Mar  7 03:57 \u001b[1;34m.\u001b[m/\r\n",
      "drwxr-xr-x    7 root     root           0 Mar  7 03:57 \u001b[1;34m..\u001b[m/\r\n",
      "-rw-r--r--    1 root     root        4.0K Mar  7 04:22 \u001b[0;0mcpu_capacity\u001b[m\r\n",
      "lrwxrwxrwx    1 root     root           0 Mar  7 04:22 \u001b[1;36mcpufreq\u001b[m -> \u001b[1;34m../cpufreq/policy0\u001b[m/\r\n",
      "drwxr-xr-x    2 root     root           0 Mar  7 04:22 \u001b[1;34mhotplug\u001b[m/\r\n",
      "lrwxrwxrwx    1 root     root           0 Mar  7 04:22 \u001b[1;36mof_node\u001b[m -> \u001b[1;34m../../../../firmware/devicetree/base/cpus/cpu@0\u001b[m/\r\n",
      "-rw-r--r--    1 root     root        4.0K Mar  7 04:22 \u001b[0;0monline\u001b[m\r\n",
      "drwxr-xr-x    2 root     root           0 Mar  7 04:22 \u001b[1;34mpower\u001b[m/\r\n",
      "drwxr-xr-x    3 root     root           0 Mar  7 04:22 \u001b[1;34mregs\u001b[m/\r\n",
      "lrwxrwxrwx    1 root     root           0 Mar  7 04:22 \u001b[1;36msubsystem\u001b[m -> \u001b[1;34m../../../../bus/cpu\u001b[m/\r\n",
      "drwxr-xr-x    2 root     root           0 Mar  7 04:22 \u001b[1;34mtopology\u001b[m/\r\n",
      "-rw-r--r--    1 root     root        4.0K Mar  7 03:57 \u001b[0;0muevent\u001b[m\r\n"
     ]
    }
   ],
   "source": [
    "ls -lah /sys/devices/system/cpu/cpu0/"
   ]
  },
  {
   "cell_type": "markdown",
   "metadata": {},
   "source": [
    "There are quite a few attributes listed under under `/sys/devices/system/cpu/cpufreq/policyX/`, in our case `policy0`.\n",
    "Lets look at a few important ones from demo perspective.\n",
    "\n",
    "- **`affected_cpus`**: List of online CPUs belonging to this policy.\n",
    "\n",
    "- **`cpuinfo_cur_freq`**: This is expected to be the frequency (in KHz) the hardware actually runs at (obtained from hardware).\n",
    "\n",
    "- **`cpuinfo_max_freq`**: Maximum possible operating frequency the CPUs belonging to this policy can run at (in kHz).\n",
    "\n",
    "- **`cpuinfo_min_freq`**: Minimum possible operating frequency the CPUs belonging to this policy can run at (in kHz).\n",
    "\n",
    "- **`cpuinfo_transition_latency`**: he time it takes to switch the CPUs belonging to this policy from one P-state to another, in nanoseconds.\n",
    "\n",
    "- **`related_cpus`**: List of all (online and offline) CPUs belonging to this policy.\n",
    "\n",
    "- **`scaling_available_governors`**: List of CPUFreq scaling governors present in the kernel that can be attached to this policy.\n",
    "\n",
    "- **`scaling_cur_freq`**: Current frequency of all of the CPUs belonging to this policy (in kHz).\n",
    "    In the majority of cases, this is the frequency of the last P-state requested by the scaling driver from the hardware using the scaling interface provided by it, which may or may not reflect the frequency the CPU is actually running at (due to hardware design and other limitations).\n",
    "\n",
    "- **`scaling_driver`**: The scaling driver currently in use.\n",
    "\n",
    "- **`scaling_governor`**: The scaling governor currently attached to this policy.\n",
    "\n",
    "- **`scaling_max_freq`**: Maximum frequency the CPUs belonging to this policy are allowed to be running at (in kHz).\n",
    "    This attribute is read-write and writing a string representing an integer to it will cause a new limit to be set (it must not be lower than the value of the scaling_min_freq attribute).\n",
    "\n",
    "- **`scaling_min_freq`**: Minimum frequency the CPUs belonging to this policy are allowed to be running at (in kHz).\n",
    "    This attribute is read-write and writing a string representing a non-negative integer to it will cause a new limit to be set (it must not be higher than the value of the scaling_max_freq attribute).\n",
    "\n",
    "- **`scaling_setspeed`**: This attribute is functional only if the userspace scaling governor is attached to the given policy.\n",
    "    It returns the last frequency requested by the governor (in kHz) or can be written to in order to set a new frequency for the policy."
   ]
  },
  {
   "cell_type": "markdown",
   "metadata": {},
   "source": [
    "More information about `cpufreq` sysfs interface can be found [here.](https://www.kernel.org/doc/Documentation/cpu-freq/user-guide.txt)"
   ]
  },
  {
   "cell_type": "markdown",
   "metadata": {},
   "source": [
    "The CPU cores of the system are currently running at this frequency:"
   ]
  },
  {
   "cell_type": "code",
   "execution_count": 4,
   "metadata": {},
   "outputs": [
    {
     "name": "stdout",
     "output_type": "stream",
     "text": [
      "999999 KHz"
     ]
    }
   ],
   "source": [
    "cat /sys/devices/system/cpu/cpufreq/policy0/cpuinfo_cur_freq | xargs printf \"%s KHz\""
   ]
  },
  {
   "cell_type": "markdown",
   "metadata": {},
   "source": [
    "The minimum and maximum CPU frequency range supported by *hardware* is:"
   ]
  },
  {
   "cell_type": "code",
   "execution_count": 5,
   "metadata": {},
   "outputs": [
    {
     "name": "stdout",
     "output_type": "stream",
     "text": [
      "299999 KHz - 1199999 KHz"
     ]
    }
   ],
   "source": [
    "!cat /sys/devices/system/cpu/cpufreq/policy0/cpuinfo_min_freq | xargs printf \"%s KHz - \";\n",
    "!cat /sys/devices/system/cpu/cpufreq/policy0/cpuinfo_max_freq | xargs printf \"%s KHz\""
   ]
  },
  {
   "cell_type": "markdown",
   "metadata": {},
   "source": [
    "**<font color=blue> For our demo, following is required: </font>**\n",
    "- `scaling_governor` in use must be *userspace*\n",
    "- `scaling_min_freq` must be greater than or equal to `cpuinfo_min_freq`\n",
    "- `scaling_max_freq` must be less than or equal to `cpuinfo_max_freq`\n",
    "\n",
    "Let's verify that."
   ]
  },
  {
   "cell_type": "code",
   "execution_count": 6,
   "metadata": {},
   "outputs": [
    {
     "name": "stdout",
     "output_type": "stream",
     "text": [
      "userspace\r\n"
     ]
    }
   ],
   "source": [
    "cat /sys/devices/system/cpu/cpufreq/policy0/scaling_governor"
   ]
  },
  {
   "cell_type": "code",
   "execution_count": 7,
   "metadata": {
    "scrolled": false
   },
   "outputs": [
    {
     "name": "stdout",
     "output_type": "stream",
     "text": [
      "299999 KHz - 1199999 KHz"
     ]
    }
   ],
   "source": [
    "!cat /sys/devices/system/cpu/cpufreq/policy0/scaling_min_freq | xargs printf \"%s KHz - \";\n",
    "!cat /sys/devices/system/cpu/cpufreq/policy0/scaling_max_freq | xargs printf \"%s KHz\""
   ]
  },
  {
   "cell_type": "markdown",
   "metadata": {},
   "source": [
    "---"
   ]
  },
  {
   "cell_type": "markdown",
   "metadata": {},
   "source": [
    "## CPU Frequency Scaling Demo  <a name=\"cpufreq-scaling-demo\"></a>"
   ]
  },
  {
   "cell_type": "markdown",
   "metadata": {},
   "source": [
    "The demo will allow us to interactively change the scaling frequency by writing to `scaling_setspeed`.\n",
    "\n",
    "Let us see what are the available scaling frequencies on the system:"
   ]
  },
  {
   "cell_type": "code",
   "execution_count": 8,
   "metadata": {},
   "outputs": [
    {
     "name": "stdout",
     "output_type": "stream",
     "text": [
      "299999 399999 599999 1199999 \r\n"
     ]
    }
   ],
   "source": [
    "cat /sys/devices/system/cpu/cpufreq/policy0/scaling_available_frequencies"
   ]
  },
  {
   "cell_type": "markdown",
   "metadata": {},
   "source": [
    "Let us try the demo:"
   ]
  },
  {
   "cell_type": "code",
   "execution_count": null,
   "metadata": {},
   "outputs": [],
   "source": [
    "from pmutil import cpufreq\n",
    "cpufreq.run_demo()"
   ]
  },
  {
   "cell_type": "markdown",
   "metadata": {},
   "source": [
    "Run the following after every frequency change to verify the difference between execution times:"
   ]
  },
  {
   "cell_type": "code",
   "execution_count": null,
   "metadata": {},
   "outputs": [],
   "source": [
    "%timeit -n 10000 -r 10 import random; random.randint(0,1000)"
   ]
  },
  {
   "cell_type": "markdown",
   "metadata": {},
   "source": [
    "## References <a name=\"xlnx-pm-wiki\"></a>\n",
    "[Link to Xilinx PM Wiki Page Zynq UltraScale＋](https://xilinx-wiki.atlassian.net/wiki/spaces/A/pages/18842232)\n",
    "\n",
    "[Link to Xilinx PM Frequency Scaling Zynq UltraScale＋](https://xilinx-wiki.atlassian.net/wiki/spaces/A/pages/18841831)"
   ]
  }
 ],
 "metadata": {
  "kernelspec": {
   "display_name": "Python 3",
   "language": "python",
   "name": "python3"
  },
  "language_info": {
   "codemirror_mode": {
    "name": "ipython",
    "version": 3
   },
   "file_extension": ".py",
   "mimetype": "text/x-python",
   "name": "python",
   "nbconvert_exporter": "python",
   "pygments_lexer": "ipython3",
   "version": "3.5.6"
  }
 },
 "nbformat": 4,
 "nbformat_minor": 2
}
