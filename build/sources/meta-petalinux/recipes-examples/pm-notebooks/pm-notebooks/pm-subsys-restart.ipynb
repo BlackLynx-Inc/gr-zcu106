{
 "cells": [
  {
   "cell_type": "markdown",
   "metadata": {},
   "source": [
    "# Subsystem Restart\n",
    "\n",
    "This demonstrates \"subsystem restart\" feature of platform management framework,\n",
    "which allows restarting a user-defined subsystem without affecting any other subsystem.\n",
    "\n",
    "**NOTE:** For Petalinux BSP v2020.1, Platform Management Framework only supports \"default subsystem\"\n",
    "which includes Arm Cortex-A72 (APU) and Cortex-R5F (RPU) processors.\n",
    "Since this demo restarts the default subsystem which includes APU and RPU,\n",
    "in effect linux running on APU will be restarted.\n",
    "As a result, jupyter notebook server process will be killed,\n",
    "and in turn this notebook session will have to be restarted on reboot.\n",
    "\n",
    "1. [Introduction](#introduction)\n",
    "2. [Implementation details](#implementation-details)\n",
    "3. [Subsystem-Restart Demo](#subsys-restart-demo)\n",
    "4. [References](#xlnx-pm-wiki)"
   ]
  },
  {
   "cell_type": "markdown",
   "metadata": {},
   "source": [
    "---"
   ]
  },
  {
   "cell_type": "markdown",
   "metadata": {},
   "source": [
    "## Introduction <a name=\"introduction\"></a>\n",
    "\n",
    "Versal supports various types of reset - from the simplest system reset to the much more complicated subsystem restart.\n",
    "\n",
    "In any system or subsystem which has a processor component and a programmable logic component, reset must entail both reset to the hardware as well as software.\n",
    "\n",
    "Reset to the hardware includes resetting of the processor, all peripherals associated with the system/subsystem,\n",
    "cleaning up of the memory as needed, and making sure that the interconnect is in a clean state, capable of routing traffic.\n",
    "\n",
    "Reset to the software results in the processor starting from the reset vector.\n",
    "However, designer must make sure that valid and clean code for system/subsystem is located at the reset vector in order to bring the system back to a clean running state.\n",
    "\n",
    "The intent of the \"subsystem restart\" feature is to demonstrate how a design with multiple subsystems can cleanly and reliably restart a subsystem without affecting other subsystems in the design. \n",
    "A subsystem is defined as combination of one or more Master and Slave components that work together to accomplish a function. \n",
    "A subsystem can be all the components of a particular operating system, including both PS and PL, but it could also be a function without an operating system, such as PL or ME."
   ]
  },
  {
   "cell_type": "markdown",
   "metadata": {},
   "source": [
    "---"
   ]
  },
  {
   "cell_type": "markdown",
   "metadata": {},
   "source": [
    "## Implementation details <a name=\"implementation-details\"></a>\n",
    "\n",
    "If you're not using Petalinux pre-built images and compiling using your own config,\n",
    "the kernel option `ZYNQMP_FIRMWARE` and `ZYNQMP_FIRMWARE_DEBUG` needs to be enabled while compiling the kernel in order to enable this feature and its debugfs interface.\n",
    "\n",
    "To trigger the subsystem restart, we can use the standard linux `reboot` interface; however we need to change the scope of the reset from `system` which is default to `subsystem`.\n",
    "\n",
    "Lets see the available scopes:"
   ]
  },
  {
   "cell_type": "code",
   "execution_count": null,
   "metadata": {},
   "outputs": [],
   "source": [
    "cat /sys/firmware/zynqmp/shutdown_scope"
   ]
  },
  {
   "cell_type": "markdown",
   "metadata": {},
   "source": [
    " - `system`: Sets the scope to system. Reboot/shutdown will affect the whole system.\n",
    " - `subsystem`: Sets the scope to subsystem. Reboot/shutdown will reset the subsystem associated with the calling master. Components that are not part of the calling subsystem will not be affected.\n",
    " - `ps_only`: For Versal, this is not supported since the definition of PS is defined by the user.\n",
    " \n",
    " To change the scope, simply write the string `\"subsystem\"` to `/sys/firmware/zynqmp/shutdown_scope`."
   ]
  },
  {
   "cell_type": "markdown",
   "metadata": {},
   "source": [
    "---"
   ]
  },
  {
   "cell_type": "markdown",
   "metadata": {},
   "source": [
    "## Subsystem Restart Demo <a name=\"subsys-restart-demo\"></a>"
   ]
  },
  {
   "cell_type": "markdown",
   "metadata": {},
   "source": [
    "To run this demo, following requirements **must** be met:\n",
    "  1. Boot image must be packaged with a special format which supports multiple images.\n",
    "  2. System must be booted from a Non-JTAG boot mode.\n",
    "\n",
    "For BSP release v2020.1, the default boot image format file (BIF) does not support multiple images packaged in one boot image;\n",
    "which means that the boot image from the BSP (`BOOT.BIN`) won't work for the purpose of this demo.\n",
    "\n",
    "For this reason, we have provided a boot image (`boot-demo.bin`) which can be used instead of the one present in petalinux BSP pre-builts.\n",
    "For the users who wish to use this demo using their designs, a boot image format file (`boot-demo.bif`) is also provided which can be used with `bootgen` tool to generate a boot image with the env variable `BOOTGEN_SUBSYSTEM_PDI=1`. Please refer to the SW developers guide for more details on how to package boot image.\n",
    "\n",
    "The artifacts for this demo can be located at: `/usr/share/example-notebooks/pm-notebooks/images/`"
   ]
  },
  {
   "cell_type": "code",
   "execution_count": null,
   "metadata": {},
   "outputs": [],
   "source": [
    "!ls -la /usr/share/example-notebooks/pm-notebooks/images/"
   ]
  },
  {
   "cell_type": "markdown",
   "metadata": {},
   "source": [
    "Now that you have booted using `boot-demo.bin`, lets run the demo:\n",
    "\n",
    "**NOTE:** This will restart linux!\n",
    "\n",
    "Set the shutdown scope to `subsystem` and issue `reboot`."
   ]
  },
  {
   "cell_type": "code",
   "execution_count": null,
   "metadata": {},
   "outputs": [],
   "source": [
    "!echo subsystem > /sys/firmware/zynqmp/shutdown_scope && reboot"
   ]
  },
  {
   "cell_type": "markdown",
   "metadata": {},
   "source": [
    "## References <a name=\"xlnx-pm-wiki\"></a>\n",
    " - [Zynq UltraScale+ MPSoC Restart solution](https://xilinx-wiki.atlassian.net/wiki/spaces/A/pages/18841820/Zynq+UltraScale+MPSoC+Restart+solution)"
   ]
  }
 ],
 "metadata": {
  "kernelspec": {
   "display_name": "Python 3",
   "language": "python",
   "name": "python3"
  },
  "language_info": {
   "codemirror_mode": {
    "name": "ipython",
    "version": 3
   },
   "file_extension": ".py",
   "mimetype": "text/x-python",
   "name": "python",
   "nbconvert_exporter": "python",
   "pygments_lexer": "ipython3",
   "version": "3.7.6"
  }
 },
 "nbformat": 4,
 "nbformat_minor": 2
}
