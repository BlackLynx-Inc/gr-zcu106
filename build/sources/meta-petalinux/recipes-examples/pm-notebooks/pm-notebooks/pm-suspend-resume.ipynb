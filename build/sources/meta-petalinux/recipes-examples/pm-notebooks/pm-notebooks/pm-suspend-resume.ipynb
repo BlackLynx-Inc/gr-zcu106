{
 "cells": [
  {
   "cell_type": "markdown",
   "metadata": {},
   "source": [
    "# Suspend-Resume\n",
    "\n",
    "This demonstrates suspend-resume power managemnent feature, with a RTC device used as a wakeup source.\n",
    "\n",
    "1. [Introduction](#introduction)\n",
    "2. [Linux Suspend-Resume](#linux-suspend-resume)\n",
    "3. [Linux Suspend-Resume Demo](#linux-suspend-resume-demo)\n",
    "4. [References](#xlnx-pm-wiki)"
   ]
  },
  {
   "cell_type": "markdown",
   "metadata": {},
   "source": [
    "---"
   ]
  },
  {
   "cell_type": "markdown",
   "metadata": {},
   "source": [
    "## Introduction <a name=\"introduction\"></a>\n",
    "\n",
    "The Linux kernel image binary included in Xilinx Petalinux Pre-built BSP for a Versal platform evaluation board\n",
    "includes the feature which allows suspending (and subsequently resuming) the state of the system\n",
    "to (or from) a low power state.\n",
    "\n",
    "If you're not using Petalinux pre-built images and compiling using your own config,\n",
    "following kernel configurations are required:\n",
    "\n",
    "- Power management options\n",
    "     - \\[\\*\\] Suspend to RAM and standby\n",
    "\t - \\[\\*\\] User space wakeup sources interface interface\n",
    "\t - \\[\\*\\] Device power management core functionality\n",
    "- Device Drivers\n",
    "\t - SoC (System on Chip)-specific drivers\n",
    "- Firmware Drivers\n",
    "\t - Zynq MPSoC Firmware Drivers\n",
    "\t - Enable Xilinx Zynq MPSoC firmware interface\n",
    "\n",
    "**Note**: Any device can prevent the kernel from suspending."
   ]
  },
  {
   "cell_type": "markdown",
   "metadata": {},
   "source": [
    "---"
   ]
  },
  {
   "cell_type": "markdown",
   "metadata": {},
   "source": [
    "## Linux Suspend-Resume <a name=\"linux-suspend-resume\"></a>\n",
    "\n",
    "The kernel supports up to four system sleep states generically, although three\n",
    "of them depend on the platform support code to implement the low-level details\n",
    "for each state.\n",
    "\n",
    "The states are represented by strings that can be read or written to the\n",
    "`/sys/power/state` file.  Those strings may be `mem`, `standby`, `freeze` and\n",
    "`disk`, where the last three always represent *Power-On Suspend* (if supported),\n",
    "*Suspend-To-Idle* and *hibernation* (Suspend-To-Disk), respectively."
   ]
  },
  {
   "cell_type": "code",
   "execution_count": null,
   "metadata": {},
   "outputs": [],
   "source": [
    "cat /sys/power/state"
   ]
  },
  {
   "cell_type": "markdown",
   "metadata": {},
   "source": [
    "The meaning of the `mem` string is controlled by the `/sys/power/mem_sleep` file.\n",
    "It contains strings representing the available modes of system suspend that may\n",
    "be triggered by writing `mem` to `/sys/power/state`.  These modes are \"s2idle\"\n",
    "(Suspend-To-Idle), \"shallow\" (Power-On Suspend) and \"deep\" (Suspend-To-RAM).\n",
    "\n",
    "The \"s2idle\" mode is always available, while the other ones are only available\n",
    "if supported by the platform (if not supported, the strings representing them\n",
    "are not present in `/sys/power/mem_sleep`).  The string representing the suspend\n",
    "mode to be used subsequently is enclosed in square brackets.  Writing one of\n",
    "the other strings present in `/sys/power/mem_sleep` to it causes the suspend mode\n",
    "to be used subsequently to change to the one represented by that string."
   ]
  },
  {
   "cell_type": "code",
   "execution_count": null,
   "metadata": {
    "scrolled": true
   },
   "outputs": [],
   "source": [
    "cat /sys/power/mem_sleep"
   ]
  },
  {
   "cell_type": "markdown",
   "metadata": {},
   "source": [
    "The default suspend mode (ie. the one to be used without writing anything into\n",
    "`/sys/power/mem_sleep`) is either `deep` (if Suspend-To-RAM is supported) or\n",
    "`s2idle`, but it can be overridden by the value of the `\"mem_sleep_default\"`\n",
    "parameter in the kernel command line.\n",
    "\n",
    "For the purpose of the demo, we'll be using `deep` since we'll be suspending to RAM.\n",
    "\n",
    "This state, offers significant power savings as everything in the\n",
    "system is put into a low-power state, except for memory, which will be placed\n",
    "into the self-refresh mode to retain its contents.  All of the steps carried out\n",
    "when entering Power-On Suspend are also carried out during transitions to STR (Suspend-To-RAM).\n",
    "Additional operations may take place depending on the platform capabilities.\n",
    "\n",
    "System and device state is saved and kept in memory.  All devices are suspended\n",
    "and put into low-power states.  In many cases, all peripheral buses lose power\n",
    "when entering STR, so devices must be able to handle the transition back to the\n",
    "\"on\" state.\n",
    "\n",
    "Some drivers can manage hardware wakeup events, which make the system leave the low-power state.\n",
    "\n",
    "The kernel resumes from the suspend mode when a wake-up event occurs.\n",
    "\n",
    "RTC, UART and GPIO devices can be used as wakeup sources.\n",
    "However, for the purpose of this demo, we'll only be focusing on RTC as a wakeup source.\n",
    "For more information on this, please refer to Versal Software Developers Guide."
   ]
  },
  {
   "cell_type": "markdown",
   "metadata": {},
   "source": [
    "---"
   ]
  },
  {
   "cell_type": "markdown",
   "metadata": {},
   "source": [
    "## Linux Suspend-Resume Demo <a name=\"linux-suspend-resume-demo\"></a>"
   ]
  },
  {
   "cell_type": "markdown",
   "metadata": {},
   "source": [
    "To run this demo, following requirements **must** be met:\n",
    "  1. Boot image must be packaged with a special format which supports multiple images.\n",
    "  2. System must be booted from a Non-JTAG boot mode.\n",
    "\n",
    "For BSP release v2020.1, the default boot image format file (BIF) does not support multiple images packaged in one boot image;\n",
    "which means that the boot image from the BSP (`BOOT.BIN`) won't work for the purpose of this demo.\n",
    "\n",
    "For this reason, we have provided a boot image (`boot-demo.bin`) which can be used instead of the one present in petalinux BSP pre-builts.\n",
    "For the users who wish to use this demo using their designs, a boot image format file (`boot-demo.bif`) is also provided which can be used with `bootgen` tool to generate a boot image with the env variable `BOOTGEN_SUBSYSTEM_PDI=1`. Please refer to the SW developers guide for more details on how to package boot image.\n",
    "\n",
    "The artifacts for this demo can be located at: `/usr/share/example-notebooks/pm-notebooks/images/`"
   ]
  },
  {
   "cell_type": "code",
   "execution_count": null,
   "metadata": {},
   "outputs": [],
   "source": [
    "!ls -la /usr/share/example-notebooks/pm-notebooks/images/"
   ]
  },
  {
   "cell_type": "markdown",
   "metadata": {},
   "source": [
    "For the purpose of this demo, we'll be using RTC as a wakeup source.\n",
    "\n",
    "Please note that if RTC is enabled as a wake-up source, the kernel will resume from the suspend mode when the RTC\n",
    "timer expires. It is also to be noted that RTC wake-up source is enabled by default.\n",
    "\n",
    "Now that you have booted using `boot-demo.bin`, lets run the demo:\n",
    "\n",
    "Following sets up the timeout value of RTC as 15 seconds and triggers system suspend.\n",
    "Once this value expires, system will resume from suspend state."
   ]
  },
  {
   "cell_type": "code",
   "execution_count": null,
   "metadata": {},
   "outputs": [],
   "source": [
    "!echo +15 > /sys/class/rtc/rtc0/wakealarm && echo mem > /sys/power/state"
   ]
  },
  {
   "cell_type": "markdown",
   "metadata": {},
   "source": [
    "## References <a name=\"xlnx-pm-wiki\"></a>\n",
    " - [Xilinx PM Wiki Page for Zynq UltraScale＋](https://xilinx-wiki.atlassian.net/wiki/spaces/A/pages/18842232)\n",
    " - [Device Power Management Basics](https://www.kernel.org/doc/html/v4.14/driver-api/pm/devices.html)\n",
    " - [Suspend and Hibernate](https://wiki.archlinux.org/index.php/Power_management/Suspend_and_hibernate)"
   ]
  }
 ],
 "metadata": {
  "kernelspec": {
   "display_name": "Python 3",
   "language": "python",
   "name": "python3"
  },
  "language_info": {
   "codemirror_mode": {
    "name": "ipython",
    "version": 3
   },
   "file_extension": ".py",
   "mimetype": "text/x-python",
   "name": "python",
   "nbconvert_exporter": "python",
   "pygments_lexer": "ipython3",
   "version": "3.7.6"
  }
 },
 "nbformat": 4,
 "nbformat_minor": 2
}
