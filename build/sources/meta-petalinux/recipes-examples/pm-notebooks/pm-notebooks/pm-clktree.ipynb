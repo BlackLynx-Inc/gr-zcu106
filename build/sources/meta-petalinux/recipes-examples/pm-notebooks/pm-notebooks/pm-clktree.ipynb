{
 "cells": [
  {
   "cell_type": "markdown",
   "metadata": {},
   "source": [
    "# CPU Clock Tree (Using Linux CCF)\n",
    "\n",
    "This demo makes use of Linux Common Clock Framework (CCF) to display clock summary of the system at runtime. In addition, a directed graph is generated and displayed for system reference clock - `ref_clk`.\n",
    "\n",
    "1. [Introduction](#introduction)\n",
    "2. [Implementation details](#implementation-details)\n",
    "    1. [SysFS Interface to CCF](#sysfs-interface)\n",
    "3. [CPU Clock-Tree Demo](#cpu-clktree-demo)\n",
    "4. [References](#xlnx-pm-wiki)"
   ]
  },
  {
   "cell_type": "markdown",
   "metadata": {},
   "source": [
    "## Introduction <a name=\"introduction\"></a>\n",
    "\n",
    "The common clk framework is an interface to control the system clock nodes. This may come in the form of clock gating, rate adjustment, muxing or other operations.\n",
    "\n",
    "This framework is enabled with the `CONFIG_COMMON_CLK`option.\n",
    "\n",
    "Related Xilinx Wiki: [Common Clock Framework](https://xilinx-wiki.atlassian.net/wiki/spaces/A/pages/18841636/)\n",
    "\n",
    "More details can be found [here.](https://www.kernel.org/doc/Documentation/clk.txt)"
   ]
  },
  {
   "cell_type": "markdown",
   "metadata": {},
   "source": [
    "---"
   ]
  },
  {
   "cell_type": "markdown",
   "metadata": {},
   "source": [
    "## Implementation details <a name=\"implementation-details\"></a>\n",
    "\n",
    "#### SysFS Interface <a name=\"sysfs-interface\"></a>"
   ]
  },
  {
   "cell_type": "markdown",
   "metadata": {},
   "source": [
    "The system clock summary can be read from here:"
   ]
  },
  {
   "cell_type": "code",
   "execution_count": 1,
   "metadata": {
    "scrolled": false
   },
   "outputs": [
    {
     "name": "stdout",
     "output_type": "stream",
     "text": [
      "                                 enable  prepare  protect                                duty\r\n",
      "   clock                          count    count    count        rate   accuracy phase  cycle\r\n",
      "---------------------------------------------------------------------------------------------\r\n",
      " cpll                                 0        0        0           0          0     0  50000\r\n",
      " misc_clk_0                           8        8        0    99999000          0     0  50000\r\n",
      " ref_clk                              2        2        2    33333333          0     0  50000\r\n",
      "    rpu_postclk                       0        0        0    33333333          0     0  50000\r\n",
      "    rpu_presrc                        1        1        1    33333333          0     0  50000\r\n",
      "       rpu_pll                        1        1        1  2999999970          0     0  50000\r\n",
      "          rpu_pll_out                 1        1        1   749999993          0     0  50000\r\n",
      "             rpll                     2        2        1   749999993          0     0  50000\r\n",
      "                gem_tsu_ref_mux       1        1        1   749999993          0     0  50000\r\n",
      "                   gem_tsu_ref_div1       1        1        1   249999998          0     0  50000\r\n",
      "                      gem_tsu_ref       1        1        1   249999998          0     0  50000\r\n",
      "                         gem_tsu       1        1        0   249999998          0     0  50000\r\n",
      "                         gem_tsu_lb       0        0        0   249999998          0     0  50000\r\n",
      "                gem1_ref_mux          0        0        0   749999993          0     0  50000\r\n",
      "                   gem1_ref_div1       0        0        0   124999999          0     0  50000\r\n",
      "                      gem1_ref        0        0        0   124999999          0     0  50000\r\n",
      "                         gem1_tx_mux       0        0        0   124999999          0     0  50000\r\n",
      "                            gem1_tx       0        0        0   124999999          0     0  50000\r\n",
      "                gem0_ref_mux          1        1        0   749999993          0     0  50000\r\n",
      "                   gem0_ref_div1       1        1        0    25000000          0     0  50000\r\n",
      "                      gem0_ref        2        2        0    25000000          0     0  50000\r\n",
      "                         gem0_tx_mux       1        1        0    25000000          0     0  50000\r\n",
      "                            gem0_tx       1        1        0    25000000          0     0  50000\r\n",
      "                iou_switch_mux        0        0        0   749999993          0     0  50000\r\n",
      "                   iou_switch_div1       0        0        0   249999998          0     0  50000\r\n",
      "                      iou_switch       0        0        0   249999998          0     0  50000\r\n",
      "                cpu_r5_mux            0        0        0   749999993          0     0  50000\r\n",
      "                   cpu_r5_div1        0        0        0   374999997          0     0  50000\r\n",
      "                      cpu_r5          0        0        0   374999997          0     0  50000\r\n",
      "                         cpu_r5_ocm2       0        0        0   374999997          0     0  50000\r\n",
      "                         cpu_r5_ocm       0        0        0   374999997          0     0  50000\r\n",
      "                         cpu_r5_core       0        0        0   374999997          0     0  50000\r\n",
      "                lpd_top_switch_mux       0        0        0   749999993          0     0  50000\r\n",
      "                   lpd_top_switch       0        0        0   374999997          0     0  50000\r\n",
      "                      adma            0        0        0   374999997          0     0  50000\r\n",
      "                rpll_to_xpd           0        0        0   249999998          0     0  50000\r\n",
      "    apu_postclk                       0        0        0    33333333          0     0  50000\r\n",
      "    apu_presrc                        0        0        0    33333333          0     0  50000\r\n",
      "       apu_pll                        0        0        0  3999999960          0     0  50000\r\n",
      "          apu_pll_out                 0        0        0   999999990          0     0  50000\r\n",
      "             apll                     0        0        0   999999990          0     0  50000\r\n",
      "                acpu_mux              0        0        0   999999990          0     0  50000\r\n",
      "                   acpu_div1          0        0        0   999999990          0     0  50000\r\n",
      "                      acpu            0        0        0   999999990          0     0  50000\r\n",
      "                fpd_top_switch_mux       0        0        0   999999990          0     0  50000\r\n",
      "                   fpd_top_switch       0        0        0   499999995          0     0  50000\r\n",
      "                apll_to_xpd           0        0        0   499999995          0     0  50000\r\n",
      "    noc_postclk                       0        0        0    33333333          0     0  50000\r\n",
      "    noc_presrc                        0        0        0    33333333          0     0  50000\r\n",
      "       noc_pll                        0        0        0  3799999962          0     0  50000\r\n",
      "          noc_pll_out                 0        0        0   949999991          0     0  50000\r\n",
      "             npll                     0        0        0   949999991          0     0  50000\r\n",
      "                npll_to_xpd           0        0        0   949999991          0     0  50000\r\n",
      "    pmc_postclk                       0        0        0    33333333          0     0  50000\r\n",
      "    pmc_presrc                        1        1        1    33333333          0     0  50000\r\n",
      "       pmc_pll                        1        1        1  2399999976          0     0  50000\r\n",
      "          pmc_pll_out                 1        1        1  1199999988          0     0  50000\r\n",
      "             ppll                     2        3        3  1199999988          0     0  50000\r\n",
      "                sd_dll_ref_mux        0        0        0  1199999988          0     0  50000\r\n",
      "                   sd_dll_ref_div1       0        0        0  1199999988          0     0  50000\r\n",
      "                      sd_dll_ref       0        0        0  1199999988          0     0  50000\r\n",
      "                hsm1_ref_mux          0        0        0  1199999988          0     0  50000\r\n",
      "                   hsm1_ref_div1       0        0        0   133333332          0     0  50000\r\n",
      "                      hsm1_ref        0        0        0   133333332          0     0  50000\r\n",
      "                hsm0_ref_mux          0        0        0  1199999988          0     0  50000\r\n",
      "                   hsm0_ref_div1       0        0        0    33333333          0     0  50000\r\n",
      "                      hsm0_ref        0        0        0    33333333          0     0  50000\r\n",
      "                npi_ref_mux           0        0        0  1199999988          0     0  50000\r\n",
      "                   npi_ref_div1       0        0        0   299999997          0     0  50000\r\n",
      "                      npi_ref         0        0        0   299999997          0     0  50000\r\n",
      "                spare_ref_mux         0        0        0  1199999988          0     0  50000\r\n",
      "                   spare_ref_div1       0        0        0   599999994          0     0  50000\r\n",
      "                      spare_ref       0        0        0   599999994          0     0  50000\r\n",
      "                cfu_ref_mux           0        0        0  1199999988          0     0  50000\r\n",
      "                   cfu_ref_div1       0        0        0   299999997          0     0  50000\r\n",
      "                      cfu_ref         0        0        0   299999997          0     0  50000\r\n",
      "                pmc_pl3_ref_mux       0        0        0  1199999988          0     0  50000\r\n",
      "                   pmc_pl3_ref_div1       0        0        0   239999998          0     0  50000\r\n",
      "                      pmc_pl3_ref       0        0        0   239999998          0     0  50000\r\n",
      "                pmc_pl2_ref_mux       0        0        0  1199999988          0     0  50000\r\n",
      "                   pmc_pl2_ref_div1       0        0        0   239999998          0     0  50000\r\n",
      "                      pmc_pl2_ref       0        0        0   239999998          0     0  50000\r\n",
      "                pmc_pl1_ref_mux       0        0        0  1199999988          0     0  50000\r\n",
      "                   pmc_pl1_ref_div1       0        0        0   239999998          0     0  50000\r\n",
      "                      pmc_pl1_ref       0        0        0   239999998          0     0  50000\r\n",
      "                pmc_pl0_ref_mux       0        0        0  1199999988          0     0  50000\r\n",
      "                   pmc_pl0_ref_div1       0        0        0    99999999          0     0  50000\r\n",
      "                      pmc_pl0_ref       0        0        0    99999999          0     0  50000\r\n",
      "                dft_osc_ref_mux       0        0        0  1199999988          0     0  50000\r\n",
      "                   dft_osc_ref_div1       0        0        0   399999996          0     0  50000\r\n",
      "                      dft_osc_ref       0        0        0   399999996          0     0  50000\r\n",
      "                test_pattern_ref_mux       0        0        0  1199999988          0     0  50000\r\n",
      "                   test_pattern_ref_div1       0        0        0   199999998          0     0  50000\r\n",
      "                      test_pattern_ref       0        0        0   199999998          0     0  50000\r\n",
      "                i2c_ref_mux           0        0        0  1199999988          0     0  50000\r\n",
      "                   i2c_ref_div1       0        0        0    99999999          0     0  50000\r\n",
      "                      i2c_ref         0        0        0    99999999          0     0  50000\r\n",
      "                pmc_lsbus_ref_mux       0        0        0  1199999988          0     0  50000\r\n",
      "                   pmc_lsbus_ref       0        0        0    99999999          0     0  50000\r\n",
      "                sdio1_ref_mux         1        1        1  1199999988          0     0  50000\r\n",
      "                   sdio1_ref_div1       1        1        1   199999998          0     0  50000\r\n",
      "                      sdio1_ref       1        1        1   199999998          0     0  50000\r\n",
      "                sdio0_ref_mux         0        0        0  1199999988          0     0  50000\r\n",
      "                   sdio0_ref_div1       0        0        0   199999998          0     0  50000\r\n",
      "                      sdio0_ref       0        0        0   199999998          0     0  50000\r\n",
      "                ospi_ref_mux          0        0        0  1199999988          0     0  50000\r\n",
      "                   ospi_ref_div1       0        0        0   299999997          0     0  50000\r\n",
      "                      ospi_ref        0        0        0   299999997          0     0  50000\r\n",
      "                qspi_ref_mux          0        1        1  1199999988          0     0  50000\r\n",
      "                   qspi_ref_div1       0        1        1   199999998          0     0  50000\r\n",
      "                      qspi_ref        0        1        1   199999998          0     0  50000\r\n",
      "                ppll_to_xpd           3        5        4   599999994          0     0  50000\r\n",
      "                   usb3_dual_ref_mux       1        1        1   599999994          0     0  50000\r\n",
      "                      usb3_dual_ref_div1       1        1        1    20000000          0     0  50000\r\n",
      "                         usb3_dual_ref       1        1        1    20000000          0     0  50000\r\n",
      "                   dbg_tstmp_mux       0        0        0   599999994          0     0  50000\r\n",
      "                      dbg_tstmp_div1       0        0        0   299999997          0     0  50000\r\n",
      "                         dbg_tstmp       0        0        0   299999997          0     0  50000\r\n",
      "                   timestamp_ref_mux       0        0        0   599999994          0     0  50000\r\n",
      "                      timestamp_ref_div1       0        0        0    99999999          0     0  50000\r\n",
      "                         timestamp_ref       0        0        0    99999999          0     0  50000\r\n",
      "                   dbg_lpd_mux        0        0        0   599999994          0     0  50000\r\n",
      "                      dbg_lpd_div1       0        0        0   299999997          0     0  50000\r\n",
      "                         dbg_lpd       0        0        0   299999997          0     0  50000\r\n",
      "                   i2c1_ref_mux       0        1        1   599999994          0     0  50000\r\n",
      "                      i2c1_ref_div1       0        1        1    99999999          0     0  50000\r\n",
      "                         i2c1_ref       0        1        1    99999999          0     0  50000\r\n",
      "                   i2c0_ref_mux       0        1        1   599999994          0     0  50000\r\n",
      "                      i2c0_ref_div1       0        1        1    99999999          0     0  50000\r\n",
      "                         i2c0_ref       0        1        1    99999999          0     0  50000\r\n",
      "                   can1_ref_mux       0        0        0   599999994          0     0  50000\r\n",
      "                      can1_ref_div1       0        0        0   149999999          0     0  50000\r\n",
      "                         can1_ref       0        0        0   149999999          0     0  50000\r\n",
      "                            can1_clk       0        0        0    74999999          0     0  50000\r\n",
      "                   can0_ref_mux       0        0        0   599999994          0     0  50000\r\n",
      "                      can0_ref_div1       0        0        0    50000000          0     0  50000\r\n",
      "                         can0_ref       0        0        0    50000000          0     0  50000\r\n",
      "                            can0_clk       0        0        0    25000000          0     0  50000\r\n",
      "                   spi1_ref_mux       0        0        0   599999994          0     0  50000\r\n",
      "                      spi1_ref_div1       0        0        0    99999999          0     0  50000\r\n",
      "                         spi1_ref       0        0        0    99999999          0     0  50000\r\n",
      "                   spi0_ref_mux       0        0        0   599999994          0     0  50000\r\n",
      "                      spi0_ref_div1       0        0        0    99999999          0     0  50000\r\n",
      "                         spi0_ref       0        0        0    99999999          0     0  50000\r\n",
      "                   uart1_ref_mux       0        0        0   599999994          0     0  50000\r\n",
      "                      uart1_ref_div1       0        0        0    50000000          0     0  50000\r\n",
      "                         uart1_ref       0        0        0    50000000          0     0  50000\r\n",
      "                   uart0_ref_mux       0        0        0   599999994          0     0  50000\r\n",
      "                      uart0_ref_div1       0        0        0    99999999          0     0  50000\r\n",
      "                         uart0_ref       0        0        0    99999999          0     0  50000\r\n",
      "                   usb0_bus_ref_mux       1        1        1   599999994          0     0  50000\r\n",
      "                      usb0_bus_ref_div1       1        1        1    20000000          0     0  50000\r\n",
      "                         usb0_bus_ref       1        1        1    20000000          0     0  50000\r\n",
      "                   lpd_lsbus_mux       1        1        0   599999994          0     0  50000\r\n",
      "                      lpd_lsbus       2        4        0    99999999          0     0  50000\r\n",
      "                         ttc0         0        0        0    99999999          0     0  50000\r\n",
      "                         ttc1         0        0        0    99999999          0     0  50000\r\n",
      "                         ttc2         0        0        0    99999999          0     0  50000\r\n",
      "                         ttc3         0        0        0    99999999          0     0  50000\r\n",
      "                   dbg_fpd_mux        0        0        0   599999994          0     0  50000\r\n",
      "                      dbg_fpd_div1       0        0        0   299999997          0     0  50000\r\n",
      "                         dbg_fpd       0        0        0   299999997          0     0  50000\r\n",
      "                   dbg_trace_mux       0        0        0   599999994          0     0  50000\r\n",
      "                      dbg_trace_div1       0        0        0   119999999          0     0  50000\r\n",
      "                         dbg_trace       0        0        0   119999999          0     0  50000\r\n",
      "                   fpd_lsbus_mux       0        0        0   599999994          0     0  50000\r\n",
      "                      fpd_lsbus       0        0        0    99999999          0     0  50000\r\n",
      "                   psm_ref_mux        0        0        0   599999994          0     0  50000\r\n",
      "                      psm_ref         0        0        0   299999997          0     0  50000\r\n",
      " pl_alt_ref_clk                       0        0        0    33333333          0     0  50000\r\n",
      " alt_ref_clk                          0        0        0    33333333          0     0  50000\r\n",
      " gem1_rx_mux                          0        0        0           0          0     0  50000\r\n",
      "    gem1_rx                           0        0        0           0          0     0  50000\r\n",
      " gem0_rx_mux                          1        1        0           0          0     0  50000\r\n",
      "    gem0_rx                           1        1        0           0          0     0  50000\r\n",
      " muxed_iro_div4                       0        0        0           0          0     0  50000\r\n",
      "    efuse_ref                         0        0        0           0          0     0  50000\r\n",
      "    usb_suspend                       0        0        0           0          0     0  50000\r\n",
      "    switch_timeout                    0        0        0           0          0     0  50000\r\n",
      " muxed_iro_div2                       0        0        0           0          0     0  50000\r\n",
      "    sysmon_ref                        0        0        0           0          0     0  50000\r\n",
      " wdt                                  0        0        0           0          0     0  50000\r\n",
      " iro_suspend_ref                      0        0        0           0          0     0  50000\r\n"
     ]
    }
   ],
   "source": [
    "cat /sys/kernel/debug/clk/clk_summary"
   ]
  },
  {
   "cell_type": "markdown",
   "metadata": {},
   "source": [
    "Orphan clocks summary:"
   ]
  },
  {
   "cell_type": "code",
   "execution_count": 2,
   "metadata": {
    "scrolled": false
   },
   "outputs": [
    {
     "name": "stdout",
     "output_type": "stream",
     "text": [
      "                                 enable  prepare  protect                                duty\r\n",
      "   clock                          count    count    count        rate   accuracy phase  cycle\r\n",
      "---------------------------------------------------------------------------------------------\r\n",
      " gem1_rx_mux                          0        0        0           0          0     0  50000\r\n",
      "    gem1_rx                           0        0        0           0          0     0  50000\r\n",
      " gem0_rx_mux                          1        1        0           0          0     0  50000\r\n",
      "    gem0_rx                           1        1        0           0          0     0  50000\r\n",
      " muxed_iro_div4                       0        0        0           0          0     0  50000\r\n",
      "    efuse_ref                         0        0        0           0          0     0  50000\r\n",
      "    usb_suspend                       0        0        0           0          0     0  50000\r\n",
      "    switch_timeout                    0        0        0           0          0     0  50000\r\n",
      " muxed_iro_div2                       0        0        0           0          0     0  50000\r\n",
      "    sysmon_ref                        0        0        0           0          0     0  50000\r\n",
      " wdt                                  0        0        0           0          0     0  50000\r\n",
      " iro_suspend_ref                      0        0        0           0          0     0  50000\r\n"
     ]
    }
   ],
   "source": [
    "cat /sys/kernel/debug/clk/clk_orphan_summary"
   ]
  },
  {
   "cell_type": "markdown",
   "metadata": {},
   "source": [
    "---"
   ]
  },
  {
   "cell_type": "markdown",
   "metadata": {},
   "source": [
    "## CPU Clock Tree Demo <a name=\"cpu-clktree-demo\"></a>"
   ]
  },
  {
   "cell_type": "markdown",
   "metadata": {},
   "source": [
    "This will parse the system clock tree and create a diagraph named `clktree.png` in the same directory, and will display the same."
   ]
  },
  {
   "cell_type": "markdown",
   "metadata": {},
   "source": [
    "Make sure *graphviz* is configured:"
   ]
  },
  {
   "cell_type": "code",
   "execution_count": null,
   "metadata": {},
   "outputs": [],
   "source": [
    "!dot -c"
   ]
  },
  {
   "cell_type": "markdown",
   "metadata": {},
   "source": [
    "Let's run the demo:"
   ]
  },
  {
   "cell_type": "code",
   "execution_count": null,
   "metadata": {
    "scrolled": false
   },
   "outputs": [],
   "source": [
    "from pmutil import clktree\n",
    "clktree.run_demo()"
   ]
  },
  {
   "cell_type": "markdown",
   "metadata": {},
   "source": [
    "---"
   ]
  },
  {
   "cell_type": "markdown",
   "metadata": {},
   "source": [
    "## References <a name=\"xlnx-pm-wiki\"></a>"
   ]
  },
  {
   "cell_type": "markdown",
   "metadata": {},
   "source": [
    "[Link to Xilinx PM Wiki Page Zynq UltraScale＋](https://xilinx-wiki.atlassian.net/wiki/spaces/A/pages/18842232)"
   ]
  }
 ],
 "metadata": {
  "kernelspec": {
   "display_name": "Python 3",
   "language": "python",
   "name": "python3"
  },
  "language_info": {
   "codemirror_mode": {
    "name": "ipython",
    "version": 3
   },
   "file_extension": ".py",
   "mimetype": "text/x-python",
   "name": "python",
   "nbconvert_exporter": "python",
   "pygments_lexer": "ipython3",
   "version": "3.5.6"
  }
 },
 "nbformat": 4,
 "nbformat_minor": 2
}
